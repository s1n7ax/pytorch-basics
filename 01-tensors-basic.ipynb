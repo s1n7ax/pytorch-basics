{
 "cells": [
  {
   "cell_type": "code",
   "execution_count": 1,
   "id": "c9fe6a23-f9b8-4d48-84ea-63788612a565",
   "metadata": {
    "tags": []
   },
   "outputs": [
    {
     "name": "stdout",
     "output_type": "stream",
     "text": [
      "1.8.1+cu111\n"
     ]
    }
   ],
   "source": [
    "import torch\n",
    "print(torch.__version__)"
   ]
  },
  {
   "cell_type": "code",
   "execution_count": 17,
   "id": "475bb0ee-8295-4b7e-8a93-490fd35484c6",
   "metadata": {},
   "outputs": [
    {
     "data": {
      "text/plain": [
       "torch.float16"
      ]
     },
     "execution_count": 17,
     "metadata": {},
     "output_type": "execute_result"
    }
   ],
   "source": [
    "# Returns the default type of a tensor\n",
    "torch.get_default_dtype()"
   ]
  },
  {
   "cell_type": "code",
   "execution_count": 16,
   "id": "2cda3fee-c6cb-4851-8530-ae80c2b2961e",
   "metadata": {},
   "outputs": [],
   "source": [
    "# Cannot set cuda tensor types to default dtype\n",
    "# torch.set_default_dtype(torch.cuda.FloatTensor)\n",
    "\n",
    "# Sets the default tensor type\n",
    "torch.set_default_dtype(torch.half)"
   ]
  },
  {
   "cell_type": "code",
   "execution_count": 20,
   "id": "c6d75e8a-d1cb-4df2-afba-297b8800abfd",
   "metadata": {},
   "outputs": [],
   "source": [
    "# Create tensor from a given list\n",
    "tensor = torch.Tensor([\n",
    "    [1,2,3],\n",
    "    [4,5,6]\n",
    "])"
   ]
  },
  {
   "cell_type": "code",
   "execution_count": 21,
   "id": "d321a9c9-71ca-45be-83a4-c73953da1bc7",
   "metadata": {},
   "outputs": [
    {
     "data": {
      "text/plain": [
       "True"
      ]
     },
     "execution_count": 21,
     "metadata": {},
     "output_type": "execute_result"
    }
   ],
   "source": [
    "# Checks variable is a tensor or not\n",
    "torch.is_tensor(tensor)"
   ]
  },
  {
   "cell_type": "code",
   "execution_count": 22,
   "id": "7757990b-bf03-447a-b102-73182abd1ba3",
   "metadata": {},
   "outputs": [
    {
     "data": {
      "text/plain": [
       "6"
      ]
     },
     "execution_count": 22,
     "metadata": {},
     "output_type": "execute_result"
    }
   ],
   "source": [
    "# Returns number of elements\n",
    "torch.numel(tensor)"
   ]
  },
  {
   "cell_type": "code",
   "execution_count": 23,
   "id": "f2c14d58-bc43-4694-a3b1-6586fae37765",
   "metadata": {},
   "outputs": [
    {
     "data": {
      "text/plain": [
       "tensor([[6.9336e-02, 9.8250e+01],\n",
       "        [       nan, 0.0000e+00]])"
      ]
     },
     "execution_count": 23,
     "metadata": {},
     "output_type": "execute_result"
    }
   ],
   "source": [
    "# Create uninitialized tensor of a given size\n",
    "torch.Tensor(2, 2)"
   ]
  },
  {
   "cell_type": "code",
   "execution_count": 24,
   "id": "dc569d42-a28b-48ee-b972-7bdae78b9a8f",
   "metadata": {},
   "outputs": [
    {
     "data": {
      "text/plain": [
       "tensor([[0.6758, 0.4277, 0.3271],\n",
       "        [0.5137, 0.2910, 0.4722]])"
      ]
     },
     "execution_count": 24,
     "metadata": {},
     "output_type": "execute_result"
    }
   ],
   "source": [
    "# Creat tensor of a given size with random values\n",
    "torch.rand(2, 3)"
   ]
  },
  {
   "cell_type": "code",
   "execution_count": 28,
   "id": "5abab145-9f81-43f0-be0f-a7410eabb100",
   "metadata": {},
   "outputs": [
    {
     "data": {
      "text/plain": [
       "tensor([1., 2., 3.], device='cuda:0', dtype=torch.float32)"
      ]
     },
     "execution_count": 28,
     "metadata": {},
     "output_type": "execute_result"
    }
   ],
   "source": [
    "# Change the dtype of a tensor\n",
    "torch.tensor([1,2,3]).type(torch.cuda.FloatTensor)"
   ]
  },
  {
   "cell_type": "code",
   "execution_count": 29,
   "id": "120a31c1-59d6-4b44-a0d4-85b72becf89f",
   "metadata": {},
   "outputs": [
    {
     "data": {
      "text/plain": [
       "tensor([1., 2., 3., 4.], device='cuda:0', dtype=torch.float64)"
      ]
     },
     "execution_count": 29,
     "metadata": {},
     "output_type": "execute_result"
    }
   ],
   "source": [
    "# Create a tensor of a given type\n",
    "torch.cuda.DoubleTensor([1,2,3,4])"
   ]
  },
  {
   "cell_type": "code",
   "execution_count": 35,
   "id": "f5a5e393-58ef-4e9a-a6ef-0684c55b71b4",
   "metadata": {},
   "outputs": [],
   "source": [
    "# Create a tensor of the given size filled with 1\n",
    "ones_tensor = torch.ones(2, 3)"
   ]
  },
  {
   "cell_type": "code",
   "execution_count": 36,
   "id": "8fe5f984-07c7-48bb-994a-fb72ab7f1008",
   "metadata": {},
   "outputs": [
    {
     "data": {
      "text/plain": [
       "tensor([[0., 0., 0.],\n",
       "        [0., 0., 0.]])"
      ]
     },
     "execution_count": 36,
     "metadata": {},
     "output_type": "execute_result"
    }
   ],
   "source": [
    "# Create a tensor of size of the passed tensor filled with zeros\n",
    "torch.zeros_like(ones_tensor)"
   ]
  },
  {
   "cell_type": "code",
   "execution_count": 37,
   "id": "df60283d-f84c-4d47-a85d-5f72f47fe741",
   "metadata": {},
   "outputs": [
    {
     "data": {
      "text/plain": [
       "tensor([[5, 5, 5, 5],\n",
       "        [5, 5, 5, 5]])"
      ]
     },
     "execution_count": 37,
     "metadata": {},
     "output_type": "execute_result"
    }
   ],
   "source": [
    "# Create and fill tensor with fill  value\n",
    "torch.full((2, 4), fill_value=5)"
   ]
  },
  {
   "cell_type": "code",
   "execution_count": 38,
   "id": "66f477f9-ea95-47be-bda9-a44d3110b6a3",
   "metadata": {},
   "outputs": [
    {
     "data": {
      "text/plain": [
       "tensor([[1., 0., 0., 0., 0.],\n",
       "        [0., 1., 0., 0., 0.],\n",
       "        [0., 0., 1., 0., 0.],\n",
       "        [0., 0., 0., 1., 0.],\n",
       "        [0., 0., 0., 0., 1.]])"
      ]
     },
     "execution_count": 38,
     "metadata": {},
     "output_type": "execute_result"
    }
   ],
   "source": [
    "# Create 2d tensor of shape 5 x 5\n",
    "# Ones are filled in the main diagonal\n",
    "eye_tensor = torch.eye(5)\n",
    "eye_tensor"
   ]
  },
  {
   "cell_type": "code",
   "execution_count": 39,
   "id": "b65478a4-29d3-480a-89d8-a93781c40114",
   "metadata": {},
   "outputs": [
    {
     "data": {
      "text/plain": [
       "tensor([[0, 0],\n",
       "        [1, 1],\n",
       "        [2, 2],\n",
       "        [3, 3],\n",
       "        [4, 4]])"
      ]
     },
     "execution_count": 39,
     "metadata": {},
     "output_type": "execute_result"
    }
   ],
   "source": [
    "# Returns the positions of non zero elements\n",
    "torch.nonzero(eye_tensor)"
   ]
  },
  {
   "cell_type": "code",
   "execution_count": null,
   "id": "3aba73c8-baba-4d74-903a-a3505e4ad0d1",
   "metadata": {},
   "outputs": [],
   "source": [
    "# Get "
   ]
  }
 ],
 "metadata": {
  "kernelspec": {
   "display_name": "Python 3",
   "language": "python",
   "name": "python3"
  },
  "language_info": {
   "codemirror_mode": {
    "name": "ipython",
    "version": 3
   },
   "file_extension": ".py",
   "mimetype": "text/x-python",
   "name": "python",
   "nbconvert_exporter": "python",
   "pygments_lexer": "ipython3",
   "version": "3.8.5"
  }
 },
 "nbformat": 4,
 "nbformat_minor": 5
}
